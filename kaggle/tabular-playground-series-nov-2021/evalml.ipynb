{
 "cells": [
  {
   "cell_type": "code",
   "execution_count": 1,
   "metadata": {},
   "outputs": [],
   "source": [
    "TRAIN_PATH = './datasets/train.csv'\n",
    "TEST_PATH = './datasets/test.csv'\n",
    "SUBMISSION_PATH = './datasets/submission.csv'\n",
    "\n",
    "MODEL_PATH = './models/evalml_model.sav'"
   ]
  },
  {
   "cell_type": "code",
   "execution_count": 3,
   "metadata": {},
   "outputs": [],
   "source": [
    "import logging\n",
    "logging.basicConfig(format='%(asctime)s - %(message)s', level=logging.INFO)\n",
    "\n",
    "import pickle\n",
    "\n",
    "import pandas as pd\n",
    "pd.set_option('display.max_rows', 500)\n",
    "pd.set_option('display.max_columns', 500)\n",
    "\n",
    "from sklearn.impute import SimpleImputer\n",
    "from optbinning import BinningProcess\n",
    "\n",
    "from kaggle.api.kaggle_api_extended import KaggleApi"
   ]
  },
  {
   "cell_type": "markdown",
   "metadata": {},
   "source": [
    "## Load datasets"
   ]
  },
  {
   "cell_type": "code",
   "execution_count": 4,
   "metadata": {},
   "outputs": [],
   "source": [
    "dataset = pd.read_csv(TRAIN_PATH, low_memory=False)\n",
    "testset = pd.read_csv(TEST_PATH, low_memory=False)"
   ]
  },
  {
   "cell_type": "markdown",
   "metadata": {},
   "source": [
    "## Train baseline"
   ]
  },
  {
   "cell_type": "code",
   "execution_count": 5,
   "metadata": {},
   "outputs": [],
   "source": [
    "from evalml.objectives import AUC\n",
    "from evalml.utils import infer_feature_types\n",
    "from evalml.preprocessing import split_data\n",
    "import evalml\n",
    "\n",
    "objective = AUC()\n",
    "\n",
    "features = list(filter(lambda x: x not in ('id','target'), dataset.columns))\n",
    "x = infer_feature_types(dataset[features])\n",
    "y = dataset['target']\n",
    "\n",
    "X_train, X_holdout, y_train, y_holdout = split_data(x, y, problem_type='binary', test_size=.3)"
   ]
  },
  {
   "cell_type": "code",
   "execution_count": null,
   "metadata": {},
   "outputs": [],
   "source": [
    "automl = evalml.automl.AutoMLSearch(X_train=x,\n",
    "                                    y_train=y,\n",
    "                                    problem_type='binary',\n",
    "                                    objective='AUC',\n",
    "                                    random_seed=1,\n",
    "                                    ensembling=True,\n",
    "                                    max_iterations=30,\n",
    "                                    n_jobs=12)\n",
    "automl.search()\n",
    "automl.best_pipeline.save('./models/evalml_bestpipeline.sav')"
   ]
  },
  {
   "cell_type": "markdown",
   "metadata": {},
   "source": [
    "## Submit new score"
   ]
  },
  {
   "cell_type": "code",
   "execution_count": 34,
   "metadata": {},
   "outputs": [
    {
     "data": {
      "text/plain": [
       "Successfully submitted to Tabular Playground Series - Nov 2021"
      ]
     },
     "execution_count": 34,
     "metadata": {},
     "output_type": "execute_result"
    }
   ],
   "source": [
    "model = automl.best_pipeline\n",
    "\n",
    "predictions_proba = model.predict_proba(testset[features])\n",
    "\n",
    "pd.DataFrame({'id': testset['id'], 'target': predictions_proba.to_dataframe()[1]}).to_csv(SUBMISSION_PATH, index=False)\n",
    "\n",
    "api = KaggleApi()\n",
    "api.authenticate()\n",
    "api.competition_submit(SUBMISSION_PATH,'Binned evalml Submission','tabular-playground-series-nov-2021', quiet=True)"
   ]
  },
  {
   "cell_type": "markdown",
   "metadata": {},
   "source": [
    "## Binning"
   ]
  },
  {
   "cell_type": "code",
   "execution_count": 35,
   "metadata": {},
   "outputs": [],
   "source": [
    "features = list(filter(lambda x: x not in ('id','target'), list(dataset.columns)))\n",
    "\n",
    "x = pd.DataFrame(dataset[features], columns=features)\n",
    "y = dataset['target'].values\n",
    "\n",
    "optbin = BinningProcess(variable_names=features)\n",
    "optbin.fit(x, y)\n",
    "x_binned = pd.DataFrame(optbin.transform(x), columns=features)"
   ]
  },
  {
   "cell_type": "code",
   "execution_count": null,
   "metadata": {},
   "outputs": [],
   "source": [
    "automl = evalml.automl.AutoMLSearch(X_train=infer_feature_types(x_binned),\n",
    "                                    y_train=y,\n",
    "                                    problem_type='binary',\n",
    "                                    objective='AUC',\n",
    "                                    random_seed=1,\n",
    "                                    ensembling=True,\n",
    "                                    max_iterations=20,\n",
    "                                    n_jobs=-1)\n",
    "automl.search()\n",
    "automl.best_pipeline.save('./models/binned_evalml_bestpipeline.sav')"
   ]
  },
  {
   "cell_type": "code",
   "execution_count": 38,
   "metadata": {},
   "outputs": [
    {
     "data": {
      "text/plain": [
       "Successfully submitted to Tabular Playground Series - Nov 2021"
      ]
     },
     "execution_count": 38,
     "metadata": {},
     "output_type": "execute_result"
    }
   ],
   "source": [
    "binned_x_test = optbin.transform(testset[features])\n",
    "\n",
    "model = automl.best_pipeline\n",
    "predictions_proba = model.predict_proba(binned_x_test)\n",
    "\n",
    "pd.DataFrame({'id': testset['id'], 'target': predictions_proba.to_dataframe()[1]}).to_csv(SUBMISSION_PATH, index=False)\n",
    "\n",
    "api = KaggleApi()\n",
    "api.authenticate()\n",
    "api.competition_submit(SUBMISSION_PATH,'Binned evalml Submission','tabular-playground-series-nov-2021', quiet=True)"
   ]
  }
 ],
 "metadata": {
  "interpreter": {
   "hash": "4fd8fe82af8b14bee1510971d42ee7b52a0521a026f9c02fa63d8c5d217165ba"
  },
  "kernelspec": {
   "display_name": "Python 3.9.7 64-bit ('base': conda)",
   "name": "python3"
  },
  "language_info": {
   "codemirror_mode": {
    "name": "ipython",
    "version": 3
   },
   "file_extension": ".py",
   "mimetype": "text/x-python",
   "name": "python",
   "nbconvert_exporter": "python",
   "pygments_lexer": "ipython3",
   "version": "3.9.7"
  },
  "orig_nbformat": 4
 },
 "nbformat": 4,
 "nbformat_minor": 2
}

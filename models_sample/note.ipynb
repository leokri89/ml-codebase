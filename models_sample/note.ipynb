{
 "cells": [
  {
   "cell_type": "markdown",
   "source": [
    "## Bibliotecas"
   ],
   "metadata": {}
  },
  {
   "cell_type": "code",
   "execution_count": 181,
   "source": [
    "\r\n",
    "import os\r\n",
    "import json\r\n",
    "import random\r\n",
    "random.seed(10)\r\n",
    "\r\n",
    "from kaggle.api.kaggle_api_extended import KaggleApi\r\n",
    "\r\n",
    "import pandas as pd\r\n",
    "from sklearn.ensemble import RandomForestClassifier\r\n",
    "from sklearn.model_selection import StratifiedShuffleSplit\r\n",
    "\r\n",
    "from sklearn.metrics import roc_auc_score, roc_curve\r\n",
    "\r\n",
    "import pickle\r\n"
   ],
   "outputs": [],
   "metadata": {}
  },
  {
   "cell_type": "markdown",
   "source": [
    "## Download data from Titanic"
   ],
   "metadata": {}
  },
  {
   "cell_type": "code",
   "execution_count": 29,
   "source": [
    "\r\n",
    "kaggle_name = \"leonardokrivickas\"\r\n",
    "kaggle_apikey = \"790e733df487c48659aae54b86fcebc8\"\r\n",
    "\r\n",
    "kaggle_path = os.path.join(os.path.expanduser('~'),'.kaggle')\r\n",
    "credential_path = os.path.join(kaggle_path,'kaggle.json')\r\n",
    "\r\n",
    "\r\n",
    "if not os.path.isdir(kaggle_path):\r\n",
    "    os.mkdir(kaggle_path)\r\n",
    "\r\n",
    "if not os.path.isfile(credential_path):\r\n",
    "    with open(credential_path,'w') as f:\r\n",
    "        f.write(json.dumps({\"username\":kaggle_name,\"key\":kaggle_apikey}))\r\n",
    "\r\n",
    "\r\n",
    "api = KaggleApi()\r\n",
    "api.authenticate()\r\n",
    "\r\n",
    "if not os.path.isdir('./dataset'):\r\n",
    "    os.mkdir('./dataset')\r\n",
    "\r\n",
    "files_to_download = ['gender_submission.csv','test.csv','train.csv']\r\n",
    "for file in files_to_download:\r\n",
    "    api.competition_download_file('titanic',file,path='./dataset')\r\n"
   ],
   "outputs": [
    {
     "output_type": "stream",
     "name": "stdout",
     "text": [
      "gender_submission.csv: Skipping, found more recently modified local copy (use --force to force download)\n",
      "test.csv: Skipping, found more recently modified local copy (use --force to force download)\n",
      "train.csv: Skipping, found more recently modified local copy (use --force to force download)\n"
     ]
    }
   ],
   "metadata": {}
  },
  {
   "cell_type": "markdown",
   "source": [
    "## Load train data"
   ],
   "metadata": {}
  },
  {
   "cell_type": "code",
   "execution_count": 34,
   "source": [
    "\r\n",
    "train = pd.read_csv('./dataset/train.csv')\r\n",
    "train.head(4)\r\n"
   ],
   "outputs": [
    {
     "output_type": "execute_result",
     "data": {
      "text/html": [
       "<div>\n",
       "<style scoped>\n",
       "    .dataframe tbody tr th:only-of-type {\n",
       "        vertical-align: middle;\n",
       "    }\n",
       "\n",
       "    .dataframe tbody tr th {\n",
       "        vertical-align: top;\n",
       "    }\n",
       "\n",
       "    .dataframe thead th {\n",
       "        text-align: right;\n",
       "    }\n",
       "</style>\n",
       "<table border=\"1\" class=\"dataframe\">\n",
       "  <thead>\n",
       "    <tr style=\"text-align: right;\">\n",
       "      <th></th>\n",
       "      <th>PassengerId</th>\n",
       "      <th>Survived</th>\n",
       "      <th>Pclass</th>\n",
       "      <th>Name</th>\n",
       "      <th>Sex</th>\n",
       "      <th>Age</th>\n",
       "      <th>SibSp</th>\n",
       "      <th>Parch</th>\n",
       "      <th>Ticket</th>\n",
       "      <th>Fare</th>\n",
       "      <th>Cabin</th>\n",
       "      <th>Embarked</th>\n",
       "    </tr>\n",
       "  </thead>\n",
       "  <tbody>\n",
       "    <tr>\n",
       "      <th>0</th>\n",
       "      <td>1</td>\n",
       "      <td>0</td>\n",
       "      <td>3</td>\n",
       "      <td>Braund, Mr. Owen Harris</td>\n",
       "      <td>male</td>\n",
       "      <td>22.0</td>\n",
       "      <td>1</td>\n",
       "      <td>0</td>\n",
       "      <td>A/5 21171</td>\n",
       "      <td>7.2500</td>\n",
       "      <td>NaN</td>\n",
       "      <td>S</td>\n",
       "    </tr>\n",
       "    <tr>\n",
       "      <th>1</th>\n",
       "      <td>2</td>\n",
       "      <td>1</td>\n",
       "      <td>1</td>\n",
       "      <td>Cumings, Mrs. John Bradley (Florence Briggs Th...</td>\n",
       "      <td>female</td>\n",
       "      <td>38.0</td>\n",
       "      <td>1</td>\n",
       "      <td>0</td>\n",
       "      <td>PC 17599</td>\n",
       "      <td>71.2833</td>\n",
       "      <td>C85</td>\n",
       "      <td>C</td>\n",
       "    </tr>\n",
       "    <tr>\n",
       "      <th>2</th>\n",
       "      <td>3</td>\n",
       "      <td>1</td>\n",
       "      <td>3</td>\n",
       "      <td>Heikkinen, Miss. Laina</td>\n",
       "      <td>female</td>\n",
       "      <td>26.0</td>\n",
       "      <td>0</td>\n",
       "      <td>0</td>\n",
       "      <td>STON/O2. 3101282</td>\n",
       "      <td>7.9250</td>\n",
       "      <td>NaN</td>\n",
       "      <td>S</td>\n",
       "    </tr>\n",
       "    <tr>\n",
       "      <th>3</th>\n",
       "      <td>4</td>\n",
       "      <td>1</td>\n",
       "      <td>1</td>\n",
       "      <td>Futrelle, Mrs. Jacques Heath (Lily May Peel)</td>\n",
       "      <td>female</td>\n",
       "      <td>35.0</td>\n",
       "      <td>1</td>\n",
       "      <td>0</td>\n",
       "      <td>113803</td>\n",
       "      <td>53.1000</td>\n",
       "      <td>C123</td>\n",
       "      <td>S</td>\n",
       "    </tr>\n",
       "  </tbody>\n",
       "</table>\n",
       "</div>"
      ],
      "text/plain": [
       "   PassengerId  Survived  Pclass  \\\n",
       "0            1         0       3   \n",
       "1            2         1       1   \n",
       "2            3         1       3   \n",
       "3            4         1       1   \n",
       "\n",
       "                                                Name     Sex   Age  SibSp  \\\n",
       "0                            Braund, Mr. Owen Harris    male  22.0      1   \n",
       "1  Cumings, Mrs. John Bradley (Florence Briggs Th...  female  38.0      1   \n",
       "2                             Heikkinen, Miss. Laina  female  26.0      0   \n",
       "3       Futrelle, Mrs. Jacques Heath (Lily May Peel)  female  35.0      1   \n",
       "\n",
       "   Parch            Ticket     Fare Cabin Embarked  \n",
       "0      0         A/5 21171   7.2500   NaN        S  \n",
       "1      0          PC 17599  71.2833   C85        C  \n",
       "2      0  STON/O2. 3101282   7.9250   NaN        S  \n",
       "3      0            113803  53.1000  C123        S  "
      ]
     },
     "metadata": {},
     "execution_count": 34
    }
   ],
   "metadata": {}
  },
  {
   "cell_type": "markdown",
   "source": [
    "## Train Base Model"
   ],
   "metadata": {}
  },
  {
   "cell_type": "code",
   "execution_count": 317,
   "source": [
    "\r\n",
    "feature = ['Pclass','Sex','SibSp','Parch']\r\n",
    "\r\n",
    "X = train[feature].copy()\r\n",
    "y = train['Survived'].copy()\r\n",
    "\r\n",
    "X['Sex'] = X['Sex'].map(lambda x: 1 if x == 'male' else 2)\r\n",
    "\r\n",
    "sss = StratifiedShuffleSplit(n_splits=30, test_size=0.3, random_state=1)\r\n",
    "\r\n",
    "folds_res = list()\r\n",
    "for train_idx, test_idx in sss.split(X, y):\r\n",
    "    model = RandomForestClassifier(n_estimators=200, max_depth=4, random_state = 1)\r\n",
    "    model.fit(X.iloc[train_idx], y.iloc[train_idx])\r\n",
    "\r\n",
    "    predictions = model.predict(X.iloc[test_idx])\r\n",
    "    predic_proba = [x[0] for x in model.predict_proba(X.iloc[test_idx])]\r\n",
    "\r\n",
    "    auc = roc_auc_score(y.iloc[test_idx], predictions)\r\n",
    "    fpr, tpr, _ = roc_curve(y.iloc[test_idx], predic_proba)\r\n",
    "    fpr, tpr = 1-fpr, 1-tpr\r\n",
    "\r\n",
    "    res = {'train_index': train_idx,\r\n",
    "            'test_index': test_idx,\r\n",
    "            'model': model,\r\n",
    "            'fpr': 1-fpr,\r\n",
    "            'tpr': 1-tpr,\r\n",
    "            'auc': auc}\r\n",
    "\r\n",
    "    folds_res.append(res)\r\n",
    "\r\n",
    "auc_mean = np.mean([fold.get('auc') for fold in folds_res])\r\n",
    "print('Mean AUC: {:.4f}'.format(auc_mean))\r\n",
    "\r\n",
    "if not os.path.isdir('./model'):\r\n",
    "    os.mkdir('./model')\r\n",
    "\r\n",
    "model_sorted = sorted(folds_res, key=lambda k: k['auc'], reverse=True)\r\n",
    "\r\n",
    "with open('./model/base_model.pkl','wb') as f:\r\n",
    "    pickle.dump(model_sorted[0].get('model'), f)\r\n"
   ],
   "outputs": [
    {
     "output_type": "stream",
     "name": "stdout",
     "text": [
      "Mean AUC: 0.7723\n"
     ]
    }
   ],
   "metadata": {}
  },
  {
   "cell_type": "code",
   "execution_count": 323,
   "source": [],
   "outputs": [],
   "metadata": {}
  }
 ],
 "metadata": {
  "orig_nbformat": 4,
  "language_info": {
   "name": "python",
   "version": "3.9.7",
   "mimetype": "text/x-python",
   "codemirror_mode": {
    "name": "ipython",
    "version": 3
   },
   "pygments_lexer": "ipython3",
   "nbconvert_exporter": "python",
   "file_extension": ".py"
  },
  "kernelspec": {
   "name": "python3",
   "display_name": "Python 3.9.7 64-bit ('geral': conda)"
  },
  "interpreter": {
   "hash": "250079b8f36b0af653d5e9c7283691025c91286249691a38b0b0e62fcd2acf59"
  }
 },
 "nbformat": 4,
 "nbformat_minor": 2
}
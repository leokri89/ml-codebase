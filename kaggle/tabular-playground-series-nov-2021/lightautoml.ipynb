{
 "cells": [
  {
   "cell_type": "code",
   "execution_count": 49,
   "metadata": {},
   "outputs": [],
   "source": [
    "pd.set_option('display.max_rows', 500)\n",
    "pd.set_option('display.max_columns', 500)\n",
    "\n",
    "TRAIN_PATH = './datasets/train.csv'\n",
    "TEST_PATH = './datasets/test.csv'\n",
    "SUBMISSION_PATH = './datasets/submission.csv'\n",
    "\n",
    "MODEL_PATH = './models/lightautoml_model.sav'\n",
    "\n",
    "N_THREADS = 10\n",
    "N_FOLDS = 5\n",
    "RANDOM_STATE = 42\n",
    "TEST_SIZE = 0.2\n",
    "TIMEOUT = 3*3600\n",
    "TARGET_NAME = 'target'"
   ]
  },
  {
   "cell_type": "code",
   "execution_count": 48,
   "metadata": {},
   "outputs": [],
   "source": [
    "import logging\n",
    "logging.basicConfig(format='%(asctime)s - %(message)s', level=logging.INFO)\n",
    "\n",
    "import pickle\n",
    "\n",
    "import pandas as pd\n",
    "from sklearn.impute import SimpleImputer\n",
    "from optbinning import BinningProcess\n",
    "from lightautoml.automl.presets.tabular_presets import TabularAutoML\n",
    "from lightautoml.tasks import Task\n",
    "\n",
    "from kaggle.api.kaggle_api_extended import KaggleApi"
   ]
  },
  {
   "cell_type": "code",
   "execution_count": 4,
   "metadata": {},
   "outputs": [],
   "source": [
    "dataset = pd.read_csv(TRAIN_PATH, low_memory=False)\n",
    "testset = pd.read_csv(TEST_PATH, low_memory=False)"
   ]
  },
  {
   "cell_type": "markdown",
   "metadata": {},
   "source": [
    "## Train"
   ]
  },
  {
   "cell_type": "code",
   "execution_count": null,
   "metadata": {},
   "outputs": [],
   "source": [
    "task = Task('binary', )\n",
    "roles = {'target': TARGET_NAME, 'drop': ['id']}\n",
    "\n",
    "automl = TabularAutoML(task = task, \n",
    "                       timeout = TIMEOUT,\n",
    "                       cpu_limit = N_THREADS,\n",
    "                       reader_params = {'n_jobs': N_THREADS, 'cv': N_FOLDS, 'random_state': RANDOM_STATE, 'verbose': 1},\n",
    "                       general_params = {'use_algos': [['linear_l2', 'lgb', 'lgb_tuned']]}\n",
    "                      )\n",
    "\n",
    "model = automl.fit_predict(dataset, roles=roles, verbose=0)\n",
    "pickle.dump(automl, open(MODEL_PATH, 'wb'))"
   ]
  },
  {
   "cell_type": "markdown",
   "metadata": {},
   "source": [
    "## Submission"
   ]
  },
  {
   "cell_type": "code",
   "execution_count": 12,
   "metadata": {},
   "outputs": [
    {
     "name": "stderr",
     "output_type": "stream",
     "text": [
      "2021-11-02 21:56:22,603 - Load testset\n",
      "2021-11-02 21:56:28,979 - Predict\n",
      "2021-11-02 21:57:06,255 - Submission\n"
     ]
    },
    {
     "data": {
      "text/plain": [
       "Successfully submitted to Tabular Playground Series - Nov 2021"
      ]
     },
     "execution_count": 12,
     "metadata": {},
     "output_type": "execute_result"
    }
   ],
   "source": [
    "logging.info(\"Predict\")\n",
    "predict = automl.predict(testset)\n",
    "submissionset = pd.DataFrame(testset['id'])\n",
    "submissionset[TARGET_NAME] = predict.data[:, 0]\n",
    "submissionset.to_csv(SUBMISSION_PATH, index = False)\n",
    "\n",
    "logging.info(\"Submission\")\n",
    "api = KaggleApi()\n",
    "api.authenticate()\n",
    "api.competition_submit(SUBMISSION_PATH,'API Submission','tabular-playground-series-nov-2021', quiet=True)"
   ]
  },
  {
   "cell_type": "markdown",
   "metadata": {},
   "source": [
    "## Transform Data - FillNA"
   ]
  },
  {
   "cell_type": "code",
   "execution_count": 50,
   "metadata": {},
   "outputs": [],
   "source": [
    "features = list(filter(lambda x: x not in ('id','target'), list(dataset.columns)))\n",
    "\n",
    "filling_na = SimpleImputer(strategy='most_frequent')\n",
    "filling_na.fit(dataset[features])\n",
    "\n",
    "x = pd.DataFrame(filling_na.transform(dataset[features]), columns=features)\n",
    "y = dataset['target'].values"
   ]
  },
  {
   "cell_type": "markdown",
   "metadata": {},
   "source": [
    "## Transform Data - Binning"
   ]
  },
  {
   "cell_type": "code",
   "execution_count": 51,
   "metadata": {},
   "outputs": [],
   "source": [
    "optbin = BinningProcess(variable_names=features)\n",
    "optbin.fit(x, y)\n",
    "x_binned = pd.DataFrame(optbin.transform(x), columns=features)"
   ]
  },
  {
   "cell_type": "markdown",
   "metadata": {},
   "source": [
    "## Training With Binning"
   ]
  },
  {
   "cell_type": "code",
   "execution_count": 52,
   "metadata": {},
   "outputs": [
    {
     "name": "stderr",
     "output_type": "stream",
     "text": [
      "2021-11-02 23:27:24,470 - Blending: iteration \u001b[1m1\u001b[0m: score = \u001b[1m0.7448895368493509\u001b[0m, weights = \u001b[1m[0.5239563  0.11808646 0.3579572 ]\u001b[0m\n",
      "2021-11-02 23:27:27,901 - Blending: iteration \u001b[1m2\u001b[0m: score = \u001b[1m0.7448895496845387\u001b[0m, weights = \u001b[1m[0.5244529  0.11725058 0.3582965 ]\u001b[0m\n",
      "2021-11-02 23:27:31,284 - Blending: iteration \u001b[1m3\u001b[0m: score = \u001b[1m0.7448895496845387\u001b[0m, weights = \u001b[1m[0.5244529  0.11725058 0.3582965 ]\u001b[0m\n",
      "2021-11-02 23:27:31,284 - Blending: no score update. Terminated\n",
      "\n",
      "2021-11-02 23:27:31,299 - \u001b[1mAutoml preset training completed in 663.25 seconds\u001b[0m\n",
      "\n",
      "2021-11-02 23:27:31,300 - Model description:\n",
      "Final prediction for new objects (level 0) = \n",
      "\t 0.52445 * (5 averaged models Lvl_0_Pipe_0_Mod_0_LinearL2) +\n",
      "\t 0.11725 * (5 averaged models Lvl_0_Pipe_1_Mod_0_LightGBM) +\n",
      "\t 0.35830 * (5 averaged models Lvl_0_Pipe_1_Mod_1_Tuned_LightGBM) \n",
      "\n"
     ]
    }
   ],
   "source": [
    "dataset_binned = x_binned.copy()\n",
    "dataset_binned['target'] = y\n",
    "\n",
    "task = Task('binary', )\n",
    "roles = {'target': TARGET_NAME}\n",
    "\n",
    "automl = TabularAutoML(task = task, \n",
    "                       timeout = TIMEOUT,\n",
    "                       cpu_limit = N_THREADS,\n",
    "                       reader_params = {'n_jobs': N_THREADS, 'cv': N_FOLDS, 'random_state': RANDOM_STATE, 'verbose': 1},\n",
    "                       general_params = {'use_algos': [['linear_l2', 'lgb', 'lgb_tuned']]}\n",
    "                      )\n",
    "\n",
    "model = automl.fit_predict(dataset_binned, roles=roles, verbose=0)\n",
    "pickle.dump(automl, open('./models/binned_lightautoml_model.sav', 'wb'))"
   ]
  },
  {
   "cell_type": "markdown",
   "metadata": {},
   "source": [
    "## Score with Binning"
   ]
  },
  {
   "cell_type": "code",
   "execution_count": 56,
   "metadata": {},
   "outputs": [
    {
     "data": {
      "text/plain": [
       "Successfully submitted to Tabular Playground Series - Nov 2021"
      ]
     },
     "execution_count": 56,
     "metadata": {},
     "output_type": "execute_result"
    }
   ],
   "source": [
    "logging.info(\"Predict\")\n",
    "binned_testset = pd.DataFrame(optbin.transform(testset[features]), columns=features)\n",
    "\n",
    "predict = automl.predict(binned_testset)\n",
    "\n",
    "pd.DataFrame({ 'id': testset['id'], 'target': predict.data[:, 0] }).to_csv(SUBMISSION_PATH, index = False)\n",
    "\n",
    "logging.info(\"Submission\")\n",
    "api = KaggleApi()\n",
    "api.authenticate()\n",
    "api.competition_submit(SUBMISSION_PATH,'Binned lightautoml Submission','tabular-playground-series-nov-2021', quiet=True)"
   ]
  },
  {
   "cell_type": "code",
   "execution_count": null,
   "metadata": {},
   "outputs": [],
   "source": []
  }
 ],
 "metadata": {
  "interpreter": {
   "hash": "4fd8fe82af8b14bee1510971d42ee7b52a0521a026f9c02fa63d8c5d217165ba"
  },
  "kernelspec": {
   "display_name": "Python 3.9.7 64-bit ('base': conda)",
   "name": "python3"
  },
  "language_info": {
   "codemirror_mode": {
    "name": "ipython",
    "version": 3
   },
   "file_extension": ".py",
   "mimetype": "text/x-python",
   "name": "python",
   "nbconvert_exporter": "python",
   "pygments_lexer": "ipython3",
   "version": "3.9.7"
  },
  "orig_nbformat": 4
 },
 "nbformat": 4,
 "nbformat_minor": 2
}

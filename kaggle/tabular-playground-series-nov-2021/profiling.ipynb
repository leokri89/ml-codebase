{
 "cells": [
  {
   "cell_type": "code",
   "execution_count": 16,
   "metadata": {},
   "outputs": [],
   "source": [
    "TRAIN_SET = './datasets/train.csv'\n",
    "TEST_SET = './datasets/test.csv'\n",
    "\n",
    "PROFILING_CONFIG = './profiling_config.yml'"
   ]
  },
  {
   "cell_type": "code",
   "execution_count": 6,
   "metadata": {},
   "outputs": [],
   "source": [
    "import pandas as pd\n",
    "import pandas_profiling as pdp"
   ]
  },
  {
   "cell_type": "code",
   "execution_count": 17,
   "metadata": {},
   "outputs": [],
   "source": [
    "df = pd.read_csv(TRAIN_SET)\n",
    "\n",
    "profile = pdp.ProfileReport(df, config_file=PROFILING_CONFIG)\n",
    "profile.to_file(\"profiling.html\")"
   ]
  },
  {
   "cell_type": "code",
   "execution_count": 8,
   "metadata": {},
   "outputs": [],
   "source": [
    "config  = {\n",
    "    'sort': 'ascending',\n",
    "    'vars': {\n",
    "        'num': {\n",
    "            'quantiles': [0.05,0.25,0.5,0.75,0.95],\n",
    "            'skewness_threshold': 20,\n",
    "            'low_categorical_threshold': 5,\n",
    "            'chi_squared_threshold': 0.999\n",
    "        },\n",
    "        'cat': {\n",
    "            'length': True,\n",
    "            'characters': False,\n",
    "            'words': False,\n",
    "            'cardinality_threshold': 50,\n",
    "            'n_obs': 5,\n",
    "            'chi_squared_threshold': 0.999\n",
    "        },\n",
    "        'bool': {\n",
    "            'n_obs': 3\n",
    "        }\n",
    "    },\n",
    "    'missing_diagrams': {\n",
    "        'heatmap': True,\n",
    "        'dendrogram': True,\n",
    "        'matrix': True,\n",
    "        'bar': True\n",
    "    },\n",
    "    'correlations': {\n",
    "        \"pearson\": {\n",
    "            \"calculate\": True\n",
    "            },\n",
    "    }\n",
    "    'var_descriptions': {\n",
    "        'f0': 'f0 description'\n",
    "    }\n",
    "}"
   ]
  },
  {
   "cell_type": "code",
   "execution_count": 13,
   "metadata": {},
   "outputs": [
    {
     "ename": "SyntaxError",
     "evalue": "invalid syntax (Temp/ipykernel_17088/2133243909.py, line 1)",
     "output_type": "error",
     "traceback": [
      "\u001b[1;36m  File \u001b[1;32m\"E:\\AppData\\Local\\Temp/ipykernel_17088/2133243909.py\"\u001b[1;36m, line \u001b[1;32m1\u001b[0m\n\u001b[1;33m    config*\u001b[0m\n\u001b[1;37m           ^\u001b[0m\n\u001b[1;31mSyntaxError\u001b[0m\u001b[1;31m:\u001b[0m invalid syntax\n"
     ]
    }
   ],
   "source": [
    "config*"
   ]
  }
 ],
 "metadata": {
  "interpreter": {
   "hash": "4fd8fe82af8b14bee1510971d42ee7b52a0521a026f9c02fa63d8c5d217165ba"
  },
  "kernelspec": {
   "display_name": "Python 3.9.7 64-bit ('base': conda)",
   "name": "python3"
  },
  "language_info": {
   "codemirror_mode": {
    "name": "ipython",
    "version": 3
   },
   "file_extension": ".py",
   "mimetype": "text/x-python",
   "name": "python",
   "nbconvert_exporter": "python",
   "pygments_lexer": "ipython3",
   "version": "3.9.7"
  },
  "orig_nbformat": 4
 },
 "nbformat": 4,
 "nbformat_minor": 2
}

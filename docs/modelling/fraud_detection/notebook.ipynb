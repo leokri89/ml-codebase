{
 "cells": [
  {
   "cell_type": "code",
   "execution_count": 5,
   "source": [
    "from sklearn.datasets import make_blobs\r\n",
    "from sklearn.metrics import accuracy_score\r\n",
    "from sklearn.ensemble import IsolationForest\r\n",
    "from sklearn.metrics import confusion_matrix\r\n",
    "\r\n",
    "X, y = make_blobs(n_samples=[4,96], centers=[[5,3,3,10],[9,3,6,11]], n_features=4, random_state=0, shuffle=\"True\")\r\n",
    "\r\n",
    "clf = IsolationForest(n_estimators=300,max_samples=10,random_state=0,max_features=4,contamination=0.1)\r\n",
    "clf.fit(X)\r\n",
    "\r\n",
    "y_pred = clf.predict(X)\r\n",
    "y_pred[y_pred == -1] = 0\r\n",
    "\r\n",
    "print(\"The accuracy to detect fraud is {:.1f}  %\" .format( accuracy_score(y,y_pred) * 100 ) )\r\n",
    "print(confusion_matrix(y, y_pred))\r\n",
    "\r\n",
    "def frauddetection(trans):\r\n",
    "    transaction_type=(clf.predict([trans]))\r\n",
    "    if  transaction_type[0] < 0:\r\n",
    "        print(\"Suspect fraud\")\r\n",
    "    else:\r\n",
    "        print(\"Normal transaction\")\r\n",
    "    return"
   ],
   "outputs": [
    {
     "output_type": "stream",
     "name": "stdout",
     "text": [
      "The accuracy to detect fraud is 92.0  %\n",
      "[[ 3  1]\n",
      " [ 7 89]]\n"
     ]
    }
   ],
   "metadata": {}
  }
 ],
 "metadata": {
  "orig_nbformat": 4,
  "language_info": {
   "name": "python",
   "version": "3.9.7",
   "mimetype": "text/x-python",
   "codemirror_mode": {
    "name": "ipython",
    "version": 3
   },
   "pygments_lexer": "ipython3",
   "nbconvert_exporter": "python",
   "file_extension": ".py"
  },
  "kernelspec": {
   "name": "python3",
   "display_name": "Python 3.9.7 64-bit ('geral': conda)"
  },
  "interpreter": {
   "hash": "250079b8f36b0af653d5e9c7283691025c91286249691a38b0b0e62fcd2acf59"
  }
 },
 "nbformat": 4,
 "nbformat_minor": 2
}